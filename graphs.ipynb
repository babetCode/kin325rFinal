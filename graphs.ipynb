{
 "cells": [
  {
   "cell_type": "code",
   "execution_count": null,
   "id": "9726099a",
   "metadata": {},
   "outputs": [],
   "source": [
    "rsi_data = {\n",
    "    'Drop Height': ['#1', '#2', '#3', '#4', '#5'],\n",
    "}"
   ]
  }
 ],
 "metadata": {
  "language_info": {
   "name": "python"
  }
 },
 "nbformat": 4,
 "nbformat_minor": 5
}
